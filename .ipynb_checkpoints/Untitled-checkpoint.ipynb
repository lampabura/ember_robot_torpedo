{
 "cells": [
  {
   "cell_type": "code",
   "execution_count": 2,
   "metadata": {},
   "outputs": [],
   "source": [
    "import random"
   ]
  },
  {
   "cell_type": "code",
   "execution_count": 11,
   "metadata": {},
   "outputs": [
    {
     "name": "stdout",
     "output_type": "stream",
     "text": [
      "[[0, 0, 0, 0, 0], [0, 0, 0, 0, 0], [0, 0, 0, 0, 0], [0, 0, 0, 0, 0], [0, 0, 0, 0, 0]]\n",
      "00000\n",
      "00000\n",
      "00000\n",
      "00000\n",
      "00000\n"
     ]
    }
   ],
   "source": [
    "board = [[0]*5]*5\n",
    "\n",
    "def print_board(board):\n",
    "    for row in board:\n",
    "        for col in row:\n",
    "            print(col,end=\"\")\n",
    "        print()\n",
    "\n",
    "print(board)\n",
    "print_board(board)"
   ]
  },
  {
   "cell_type": "code",
   "execution_count": 12,
   "metadata": {},
   "outputs": [],
   "source": [
    "shipA_row = random.randint(0,5)\n",
    "shipA_col = random.randint(0,5)\n",
    "shipB_row = random.randint(0,5)\n",
    "shipB_col = random.randint(0,5)"
   ]
  },
  {
   "cell_type": "code",
   "execution_count": 14,
   "metadata": {},
   "outputs": [],
   "source": [
    "guess_row = random.randint(0,5)\n",
    "guess_col = random.randint(0,5)\n",
    "\n",
    "def turn(guess_row, guess_col):\n",
    "    if(guess_row == shipA_row and guess_col == shipA_col):\n",
    "        print(\"hit\")\n",
    "    else:\n",
    "        if(guess_row < 0 or guess_row > 5 or guess_col < 0 or guess_col > 5):\n",
    "            print(\"ha?!?!?!?\")\n",
    "        else:\n",
    "            print(\"nope\")\n"
   ]
  },
  {
   "cell_type": "code",
   "execution_count": null,
   "metadata": {},
   "outputs": [],
   "source": []
  }
 ],
 "metadata": {
  "kernelspec": {
   "display_name": "Python 3",
   "language": "python",
   "name": "python3"
  },
  "language_info": {
   "codemirror_mode": {
    "name": "ipython",
    "version": 3
   },
   "file_extension": ".py",
   "mimetype": "text/x-python",
   "name": "python",
   "nbconvert_exporter": "python",
   "pygments_lexer": "ipython3",
   "version": "3.8.3"
  }
 },
 "nbformat": 4,
 "nbformat_minor": 4
}
